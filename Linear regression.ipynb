{
 "cells": [
  {
   "cell_type": "markdown",
   "metadata": {},
   "source": [
    "# Generate data"
   ]
  },
  {
   "cell_type": "code",
   "execution_count": 1,
   "metadata": {
    "collapsed": false
   },
   "outputs": [],
   "source": [
    "import numpy as np\n",
    "import matplotlib.pyplot as plt\n",
    "def generate_linear_data(a, b, num):\n",
    "    x = np.arange(0,num)\n",
    "    y = (a*x +b) + (2*np.random.random((num)) - 1)\n",
    "    return x,y"
   ]
  },
  {
   "cell_type": "code",
   "execution_count": 2,
   "metadata": {
    "collapsed": false
   },
   "outputs": [],
   "source": [
    "x,y = generate_linear_data(a=1,b=1,num=10)"
   ]
  },
  {
   "cell_type": "code",
   "execution_count": 3,
   "metadata": {
    "collapsed": false
   },
   "outputs": [
    {
     "data": {
      "image/png": "[encoded data removed]",
      "text/plain": [
       "<matplotlib.figure.Figure at 0x7f2a081759e8>"
      ]
     },
     "metadata": {},
     "output_type": "display_data"
    }
   ],
   "source": [
    "plt.scatter(x,y)\n",
    "plt.show()"
   ]
  },
  {
   "cell_type": "markdown",
   "metadata": {},
   "source": [
    "# Vanilla Linear regression closed form solution"
   ]
  },
  {
   "cell_type": "code",
   "execution_count": 4,
   "metadata": {
    "collapsed": true
   },
   "outputs": [],
   "source": [
    "def covariance(x,y):\n",
    "    return np.cov(x,y)[0][1]\n",
    "def variance(x):\n",
    "    return np.var(x)\n",
    "def mean(x):\n",
    "    return np.mean(x)\n",
    "\n",
    "class LinearRegressionClosed:\n",
    "# A closed form solution, for y = B0 + B1 * x, where            \n",
    "# Solving parameters for derivative of RMSE?\n",
    "    B0 = None\n",
    "    B1 = None\n",
    "        \n",
    "    def fit(self, x_arr,y_arr):\n",
    "        self.B1 = covariance(x_arr,y_arr)/variance(x_arr)\n",
    "        self.B0 = mean(y_arr) - self.B1 *mean(x_arr)\n",
    "\n",
    "    def predict(self, x_arr):\n",
    "        y_arr = []\n",
    "        for x in x_arr:\n",
    "            y_arr.append(self.B0 + self.B1 * x)\n",
    "        return y_arr\n",
    "        \n",
    "    def get_coefficients(self):\n",
    "        return self.B0, self.B1  "
   ]
  },
  {
   "cell_type": "code",
   "execution_count": 5,
   "metadata": {
    "collapsed": false
   },
   "outputs": [],
   "source": [
    "LR = LinearRegressionClosed()\n",
    "LR.fit(x,y)"
   ]
  },
  {
   "cell_type": "code",
   "execution_count": 6,
   "metadata": {
    "collapsed": false
   },
   "outputs": [
    {
     "data": {
      "image/png": "[encoded data removed]",
      "text/plain": [
       "<matplotlib.figure.Figure at 0x7f29dfe00d68>"
      ]
     },
     "metadata": {},
     "output_type": "display_data"
    }
   ],
   "source": [
    "x_arr = range(10)\n",
    "y_arr = LR.predict(x_arr)\n",
    "plt.scatter(x,y)\n",
    "plt.plot(x_arr, y_arr)\n",
    "plt.show()"
   ]
  },
  {
   "cell_type": "markdown",
   "metadata": {},
   "source": [
    "# Vanilla Linear regression with SGD"
   ]
  },
  {
   "cell_type": "code",
   "execution_count": 7,
   "metadata": {
    "collapsed": false
   },
   "outputs": [],
   "source": [
    "class LinearRegression:\n",
    "    weights = None\n",
    "    \n",
    "    def fit(self, features, target, num_steps, lr, add_intercept = False):\n",
    "        \n",
    "        weights = np.random.normal(size=(features.shape[1],1))\n",
    "\n",
    "        for step in range(num_steps):\n",
    "            scores = np.matmul(features, weights)\n",
    "            gradients = np.matmul(features.T, scores-target)\n",
    "            weights -= lr * gradients\n",
    "            \n",
    "            #Print Loss every so often\n",
    "            if step % 50 == 0:\n",
    "                j = np.sum((np.square(scores-target)))\n",
    "                print(\"Loss is in iteration \"+str(step) + \": \"+ str(j))                \n",
    "        self.weights = weights\n",
    "  \n",
    "    def predict(self, features):\n",
    "        return np.matmul(features, self.weights)"
   ]
  },
  {
   "cell_type": "code",
   "execution_count": 8,
   "metadata": {
    "collapsed": false
   },
   "outputs": [
    {
     "name": "stdout",
     "output_type": "stream",
     "text": [
      "Loss is in iteration 0: 369.81008854\n",
      "Loss is in iteration 50: 6.44000492823\n",
      "Loss is in iteration 100: 6.44000492823\n",
      "Loss is in iteration 150: 6.44000492823\n"
     ]
    }
   ],
   "source": [
    "x_new = x.reshape((x.shape[0],-1))\n",
    "y_new = y.reshape((y.shape[0],-1))\n",
    "LR = LinearRegression()\n",
    "LR.fit(x_new,y_new, 200, 0.005)"
   ]
  },
  {
   "cell_type": "code",
   "execution_count": 9,
   "metadata": {
    "collapsed": false
   },
   "outputs": [],
   "source": [
    "x_arr = np.arange(10).reshape((10,1))\n",
    "y_arr = LR.predict(x_arr)"
   ]
  },
  {
   "cell_type": "code",
   "execution_count": 10,
   "metadata": {
    "collapsed": false
   },
   "outputs": [
    {
     "data": {
      "image/png": "[encoded data removed]",
      "text/plain": [
       "<matplotlib.figure.Figure at 0x7f29dfdbb198>"
      ]
     },
     "metadata": {},
     "output_type": "display_data"
    }
   ],
   "source": [
    "plt.scatter(x,y)\n",
    "plt.plot(x_arr, y_arr)\n",
    "plt.show()"
   ]
  },
  {
   "cell_type": "markdown",
   "metadata": {},
   "source": [
    "# Scikit learn"
   ]
  },
  {
   "cell_type": "code",
   "execution_count": 14,
   "metadata": {
    "collapsed": false
   },
   "outputs": [
    {
     "name": "stdout",
     "output_type": "stream",
     "text": [
      "Coefficients: \n",
      " [[ 1.02244628]]\n"
     ]
    }
   ],
   "source": [
    "from sklearn import linear_model\n",
    "LR = linear_model.LinearRegression()\n",
    "LR.fit(x_new,y_new)\n",
    "print('Coefficients: \\n', LR.coef_)"
   ]
  },
  {
   "cell_type": "code",
   "execution_count": 15,
   "metadata": {
    "collapsed": false
   },
   "outputs": [
    {
     "data": {
      "image/png": "[encoded data removed]",
      "text/plain": [
       "<matplotlib.figure.Figure at 0x7f29ca792e48>"
      ]
     },
     "metadata": {},
     "output_type": "display_data"
    }
   ],
   "source": [
    "y_arr = LR.predict(x_arr)\n",
    "plt.scatter(x,y)\n",
    "plt.plot(x_arr, y_arr)\n",
    "plt.show()"
   ]
  },
  {
   "cell_type": "markdown",
   "metadata": {},
   "source": [
    "# Notes"
   ]
  },
  {
   "cell_type": "markdown",
   "metadata": {},
   "source": [
    "Most basic and common form of predictive analysis. \n",
    "It is a linear approach to model the relationshop between a dependant variable(Y) and a few independant variables(X)\n",
    "\n",
    "## Training process\n",
    "Can be optimized using SGD. Most simple estimator is OLS(Ordinary least square errors):\n",
    "\n",
    "Also has closed form solution:\n",
    "For y = B0 + B1 * x, where\n",
    "B1 = covariance(x,y)/variance(x)\n",
    "B0 = mean(y) - B1 *mean(x)\n",
    "\n",
    "## Evaluation\n",
    "Use R2: Total variation as num(x) increases\n",
    "Adjusted R^2: R^2 adjusted for number of features\n",
    "Why not MSE?\n",
    "\n",
    "## Regularization\n",
    "More data\n",
    "Regularizaion terms: L1 or L2\n",
    "\n",
    "\n",
    "## Assumptions\n",
    "* There must be linear relation between independant and dependant variables. Use Scatter plot to verify?\n",
    "* Normal distribution of variables: Avoids distortions of results due to outliers or skewed data. Use Histogram to verify?\n",
    "* No multicollinearity. Introduces redundancy and reduces our certainity in the results. Use Correlation matrix of features\n",
    "* No autocorrelation: Usually for time series data. Correlation of a variable and its delayed copy. Today’s stock versus yesterday’s stock. How to check? \n",
    "* Homoscedasticity: variance around the regression line is the same for all values of the independent variable (X). That is outliers are spread across Y. Scatter plot?\n",
    "* Datasize - Rule of thumb: At least 20 observations per independant variable. Citation?\n",
    "\n",
    "## Pros:\n",
    "* Very popular, suprisingly works well for many problems\n",
    "* Natural extension to correlation analysis\n",
    "\n",
    "## Cons:\n",
    "* Sensitive to outliers\n",
    "* Hard assumptions\n",
    "\n",
    "## Action items\n",
    "Practice: Deep dive into Kaggle Zillow competition.\n",
    "* Explore and verify assumptions\n",
    "* Apply regularized Linear regression\n",
    "* Fit and evaluate results\n",
    "* Mainly R2 and p-score"
   ]
  },
  {
   "cell_type": "markdown",
   "metadata": {},
   "source": []
  },
  {
   "cell_type": "code",
   "execution_count": 11,
   "metadata": {
    "collapsed": false
   },
   "outputs": [
    {
     "ename": "IndentationError",
     "evalue": "unexpected indent (<ipython-input-11-292bf77c07dc>, line 2)",
     "output_type": "error",
     "traceback": [
      "\u001b[0;36m  File \u001b[0;32m\"<ipython-input-11-292bf77c07dc>\"\u001b[0;36m, line \u001b[0;32m2\u001b[0m\n\u001b[0;31m    if add_intercept:\u001b[0m\n\u001b[0m    ^\u001b[0m\n\u001b[0;31mIndentationError\u001b[0m\u001b[0;31m:\u001b[0m unexpected indent\n"
     ]
    }
   ],
   "source": [
    "# Can add intercept\n",
    "        if add_intercept:\n",
    "            intercept = np.ones((features.shape[0], 1))\n",
    "            features = np.hstack((intercept, features))\n",
    "\n",
    "        weights = np.zeros(features.shape[1]).reshape((features.shape[1],1))\n",
    "\n"
   ]
  }
 ],
 "metadata": {
  "kernelspec": {
   "display_name": "Python 3",
   "language": "python",
   "name": "python3"
  },
  "language_info": {
   "codemirror_mode": {
    "name": "ipython",
    "version": 3
   },
   "file_extension": ".py",
   "mimetype": "text/x-python",
   "name": "python",
   "nbconvert_exporter": "python",
   "pygments_lexer": "ipython3",
   "version": "3.6.0"
  },
  "toc": {
   "colors": {
    "hover_highlight": "#DAA520",
    "running_highlight": "#FF0000",
    "selected_highlight": "#FFD700"
   },
   "moveMenuLeft": true,
   "nav_menu": {
    "height": "270px",
    "width": "254px"
   },
   "navigate_menu": true,
   "number_sections": true,
   "sideBar": true,
   "threshold": 4,
   "toc_cell": false,
   "toc_section_display": "block",
   "toc_window_display": false
  }
 },
 "nbformat": 4,
 "nbformat_minor": 2
}
