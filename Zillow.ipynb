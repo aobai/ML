{
 "cells": [
  {
   "cell_type": "markdown",
   "metadata": {},
   "source": [
    "# List files"
   ]
  },
  {
   "cell_type": "code",
   "execution_count": 234,
   "metadata": {
    "collapsed": false
   },
   "outputs": [
    {
     "name": "stdout",
     "output_type": "stream",
     "text": [
      "['/home/sravya/data/Kaggle/zillow/zillow_data_dictionary.xlsx',\n",
      " '/home/sravya/data/Kaggle/zillow/sample_submission.csv',\n",
      " '/home/sravya/data/Kaggle/zillow/__MACOSX',\n",
      " '/home/sravya/data/Kaggle/zillow/properties_2016.csv',\n",
      " '/home/sravya/data/Kaggle/zillow/train_2016_v2.csv']\n"
     ]
    }
   ],
   "source": [
    "PATH='/home/sravya/data/Kaggle/zillow/'\n",
    "import glob\n",
    "import pprint\n",
    "pprint.pprint(glob.glob(PATH+'*'))"
   ]
  },
  {
   "cell_type": "markdown",
   "metadata": {
    "heading_collapsed": true
   },
   "source": [
    "# Load from CSV using pandas"
   ]
  },
  {
   "cell_type": "code",
   "execution_count": 235,
   "metadata": {
    "collapsed": true,
    "hidden": true
   },
   "outputs": [],
   "source": [
    "import pandas as pd\n",
    "import numpy as np"
   ]
  },
  {
   "cell_type": "code",
   "execution_count": 236,
   "metadata": {
    "collapsed": false,
    "hidden": true
   },
   "outputs": [
    {
     "name": "stderr",
     "output_type": "stream",
     "text": [
      "Exception ignored in: <bound method DMatrix.__del__ of <xgboost.core.DMatrix object at 0x7fbb8db3f7b8>>\n",
      "Traceback (most recent call last):\n",
      "  File \"/home/sravya/anaconda3/lib/python3.6/site-packages/xgboost/core.py\", line 324, in __del__\n",
      "    _check_call(_LIB.XGDMatrixFree(self.handle))\n",
      "AttributeError: 'DMatrix' object has no attribute 'handle'\n",
      "/home/sravya/anaconda3/lib/python3.6/site-packages/IPython/core/interactiveshell.py:2717: DtypeWarning: Columns (22,32,34,49,55) have mixed types. Specify dtype option on import or set low_memory=False.\n",
      "  interactivity=interactivity, compiler=compiler, result=result)\n"
     ]
    }
   ],
   "source": [
    "props = pd.read_csv('/home/sravya/data/Kaggle/zillow/properties_2016.csv')"
   ]
  },
  {
   "cell_type": "code",
   "execution_count": 237,
   "metadata": {
    "collapsed": false,
    "hidden": true
   },
   "outputs": [
    {
     "data": {
      "text/html": [
       "<div>\n",
       "<style>\n",
       "    .dataframe thead tr:only-child th {\n",
       "        text-align: right;\n",
       "    }\n",
       "\n",
       "    .dataframe thead th {\n",
       "        text-align: left;\n",
       "    }\n",
       "\n",
       "    .dataframe tbody tr th {\n",
       "        vertical-align: top;\n",
       "    }\n",
       "</style>\n",
       "<table border=\"1\" class=\"dataframe\">\n",
       "  <thead>\n",
       "    <tr style=\"text-align: right;\">\n",
       "      <th></th>\n",
       "      <th>parcelid</th>\n",
       "      <th>airconditioningtypeid</th>\n",
       "      <th>architecturalstyletypeid</th>\n",
       "      <th>basementsqft</th>\n",
       "      <th>bathroomcnt</th>\n",
       "      <th>bedroomcnt</th>\n",
       "      <th>buildingclasstypeid</th>\n",
       "      <th>buildingqualitytypeid</th>\n",
       "      <th>calculatedbathnbr</th>\n",
       "      <th>decktypeid</th>\n",
       "      <th>...</th>\n",
       "      <th>numberofstories</th>\n",
       "      <th>fireplaceflag</th>\n",
       "      <th>structuretaxvaluedollarcnt</th>\n",
       "      <th>taxvaluedollarcnt</th>\n",
       "      <th>assessmentyear</th>\n",
       "      <th>landtaxvaluedollarcnt</th>\n",
       "      <th>taxamount</th>\n",
       "      <th>taxdelinquencyflag</th>\n",
       "      <th>taxdelinquencyyear</th>\n",
       "      <th>censustractandblock</th>\n",
       "    </tr>\n",
       "  </thead>\n",
       "  <tbody>\n",
       "    <tr>\n",
       "      <th>0</th>\n",
       "      <td>10754147</td>\n",
       "      <td>nan</td>\n",
       "      <td>nan</td>\n",
       "      <td>nan</td>\n",
       "      <td>0.0000</td>\n",
       "      <td>0.0000</td>\n",
       "      <td>nan</td>\n",
       "      <td>nan</td>\n",
       "      <td>nan</td>\n",
       "      <td>nan</td>\n",
       "      <td>...</td>\n",
       "      <td>nan</td>\n",
       "      <td>NaN</td>\n",
       "      <td>nan</td>\n",
       "      <td>9.0000</td>\n",
       "      <td>2015.0000</td>\n",
       "      <td>9.0000</td>\n",
       "      <td>nan</td>\n",
       "      <td>NaN</td>\n",
       "      <td>nan</td>\n",
       "      <td>nan</td>\n",
       "    </tr>\n",
       "    <tr>\n",
       "      <th>1</th>\n",
       "      <td>10759547</td>\n",
       "      <td>nan</td>\n",
       "      <td>nan</td>\n",
       "      <td>nan</td>\n",
       "      <td>0.0000</td>\n",
       "      <td>0.0000</td>\n",
       "      <td>nan</td>\n",
       "      <td>nan</td>\n",
       "      <td>nan</td>\n",
       "      <td>nan</td>\n",
       "      <td>...</td>\n",
       "      <td>nan</td>\n",
       "      <td>NaN</td>\n",
       "      <td>nan</td>\n",
       "      <td>27516.0000</td>\n",
       "      <td>2015.0000</td>\n",
       "      <td>27516.0000</td>\n",
       "      <td>nan</td>\n",
       "      <td>NaN</td>\n",
       "      <td>nan</td>\n",
       "      <td>nan</td>\n",
       "    </tr>\n",
       "    <tr>\n",
       "      <th>2</th>\n",
       "      <td>10843547</td>\n",
       "      <td>nan</td>\n",
       "      <td>nan</td>\n",
       "      <td>nan</td>\n",
       "      <td>0.0000</td>\n",
       "      <td>0.0000</td>\n",
       "      <td>nan</td>\n",
       "      <td>nan</td>\n",
       "      <td>nan</td>\n",
       "      <td>nan</td>\n",
       "      <td>...</td>\n",
       "      <td>nan</td>\n",
       "      <td>NaN</td>\n",
       "      <td>650756.0000</td>\n",
       "      <td>1413387.0000</td>\n",
       "      <td>2015.0000</td>\n",
       "      <td>762631.0000</td>\n",
       "      <td>20800.3700</td>\n",
       "      <td>NaN</td>\n",
       "      <td>nan</td>\n",
       "      <td>nan</td>\n",
       "    </tr>\n",
       "    <tr>\n",
       "      <th>3</th>\n",
       "      <td>10859147</td>\n",
       "      <td>nan</td>\n",
       "      <td>nan</td>\n",
       "      <td>nan</td>\n",
       "      <td>0.0000</td>\n",
       "      <td>0.0000</td>\n",
       "      <td>3.0000</td>\n",
       "      <td>7.0000</td>\n",
       "      <td>nan</td>\n",
       "      <td>nan</td>\n",
       "      <td>...</td>\n",
       "      <td>1.0000</td>\n",
       "      <td>NaN</td>\n",
       "      <td>571346.0000</td>\n",
       "      <td>1156834.0000</td>\n",
       "      <td>2015.0000</td>\n",
       "      <td>585488.0000</td>\n",
       "      <td>14557.5700</td>\n",
       "      <td>NaN</td>\n",
       "      <td>nan</td>\n",
       "      <td>nan</td>\n",
       "    </tr>\n",
       "    <tr>\n",
       "      <th>4</th>\n",
       "      <td>10879947</td>\n",
       "      <td>nan</td>\n",
       "      <td>nan</td>\n",
       "      <td>nan</td>\n",
       "      <td>0.0000</td>\n",
       "      <td>0.0000</td>\n",
       "      <td>4.0000</td>\n",
       "      <td>nan</td>\n",
       "      <td>nan</td>\n",
       "      <td>nan</td>\n",
       "      <td>...</td>\n",
       "      <td>nan</td>\n",
       "      <td>NaN</td>\n",
       "      <td>193796.0000</td>\n",
       "      <td>433491.0000</td>\n",
       "      <td>2015.0000</td>\n",
       "      <td>239695.0000</td>\n",
       "      <td>5725.1700</td>\n",
       "      <td>NaN</td>\n",
       "      <td>nan</td>\n",
       "      <td>nan</td>\n",
       "    </tr>\n",
       "  </tbody>\n",
       "</table>\n",
       "<p>5 rows × 58 columns</p>\n",
       "</div>"
      ],
      "text/plain": [
       "   parcelid  airconditioningtypeid  architecturalstyletypeid  basementsqft  \\\n",
       "0  10754147                    nan                       nan           nan   \n",
       "1  10759547                    nan                       nan           nan   \n",
       "2  10843547                    nan                       nan           nan   \n",
       "3  10859147                    nan                       nan           nan   \n",
       "4  10879947                    nan                       nan           nan   \n",
       "\n",
       "   bathroomcnt  bedroomcnt  buildingclasstypeid  buildingqualitytypeid  \\\n",
       "0       0.0000      0.0000                  nan                    nan   \n",
       "1       0.0000      0.0000                  nan                    nan   \n",
       "2       0.0000      0.0000                  nan                    nan   \n",
       "3       0.0000      0.0000               3.0000                 7.0000   \n",
       "4       0.0000      0.0000               4.0000                    nan   \n",
       "\n",
       "   calculatedbathnbr  decktypeid         ...           numberofstories  \\\n",
       "0                nan         nan         ...                       nan   \n",
       "1                nan         nan         ...                       nan   \n",
       "2                nan         nan         ...                       nan   \n",
       "3                nan         nan         ...                    1.0000   \n",
       "4                nan         nan         ...                       nan   \n",
       "\n",
       "   fireplaceflag  structuretaxvaluedollarcnt  taxvaluedollarcnt  \\\n",
       "0            NaN                         nan             9.0000   \n",
       "1            NaN                         nan         27516.0000   \n",
       "2            NaN                 650756.0000       1413387.0000   \n",
       "3            NaN                 571346.0000       1156834.0000   \n",
       "4            NaN                 193796.0000        433491.0000   \n",
       "\n",
       "   assessmentyear  landtaxvaluedollarcnt  taxamount  taxdelinquencyflag  \\\n",
       "0       2015.0000                 9.0000        nan                 NaN   \n",
       "1       2015.0000             27516.0000        nan                 NaN   \n",
       "2       2015.0000            762631.0000 20800.3700                 NaN   \n",
       "3       2015.0000            585488.0000 14557.5700                 NaN   \n",
       "4       2015.0000            239695.0000  5725.1700                 NaN   \n",
       "\n",
       "   taxdelinquencyyear  censustractandblock  \n",
       "0                 nan                  nan  \n",
       "1                 nan                  nan  \n",
       "2                 nan                  nan  \n",
       "3                 nan                  nan  \n",
       "4                 nan                  nan  \n",
       "\n",
       "[5 rows x 58 columns]"
      ]
     },
     "execution_count": 237,
     "metadata": {},
     "output_type": "execute_result"
    }
   ],
   "source": [
    "props.head()"
   ]
  },
  {
   "cell_type": "code",
   "execution_count": 238,
   "metadata": {
    "collapsed": false,
    "hidden": true
   },
   "outputs": [
    {
     "data": {
      "text/html": [
       "<div>\n",
       "<style>\n",
       "    .dataframe thead tr:only-child th {\n",
       "        text-align: right;\n",
       "    }\n",
       "\n",
       "    .dataframe thead th {\n",
       "        text-align: left;\n",
       "    }\n",
       "\n",
       "    .dataframe tbody tr th {\n",
       "        vertical-align: top;\n",
       "    }\n",
       "</style>\n",
       "<table border=\"1\" class=\"dataframe\">\n",
       "  <thead>\n",
       "    <tr style=\"text-align: right;\">\n",
       "      <th></th>\n",
       "      <th>parcelid</th>\n",
       "      <th>logerror</th>\n",
       "      <th>transactiondate</th>\n",
       "    </tr>\n",
       "  </thead>\n",
       "  <tbody>\n",
       "    <tr>\n",
       "      <th>0</th>\n",
       "      <td>11016594</td>\n",
       "      <td>0.0276</td>\n",
       "      <td>2016-01-01</td>\n",
       "    </tr>\n",
       "    <tr>\n",
       "      <th>1</th>\n",
       "      <td>14366692</td>\n",
       "      <td>-0.1684</td>\n",
       "      <td>2016-01-01</td>\n",
       "    </tr>\n",
       "    <tr>\n",
       "      <th>2</th>\n",
       "      <td>12098116</td>\n",
       "      <td>-0.0040</td>\n",
       "      <td>2016-01-01</td>\n",
       "    </tr>\n",
       "    <tr>\n",
       "      <th>3</th>\n",
       "      <td>12643413</td>\n",
       "      <td>0.0218</td>\n",
       "      <td>2016-01-02</td>\n",
       "    </tr>\n",
       "    <tr>\n",
       "      <th>4</th>\n",
       "      <td>14432541</td>\n",
       "      <td>-0.0050</td>\n",
       "      <td>2016-01-02</td>\n",
       "    </tr>\n",
       "  </tbody>\n",
       "</table>\n",
       "</div>"
      ],
      "text/plain": [
       "   parcelid  logerror transactiondate\n",
       "0  11016594    0.0276      2016-01-01\n",
       "1  14366692   -0.1684      2016-01-01\n",
       "2  12098116   -0.0040      2016-01-01\n",
       "3  12643413    0.0218      2016-01-02\n",
       "4  14432541   -0.0050      2016-01-02"
      ]
     },
     "execution_count": 238,
     "metadata": {},
     "output_type": "execute_result"
    }
   ],
   "source": [
    "train = pd.read_csv('/home/sravya/data/Kaggle/zillow/train_2016_v2.csv')\n",
    "train.head()"
   ]
  },
  {
   "cell_type": "code",
   "execution_count": 239,
   "metadata": {
    "collapsed": false,
    "hidden": true
   },
   "outputs": [
    {
     "data": {
      "text/html": [
       "<div>\n",
       "<style>\n",
       "    .dataframe thead tr:only-child th {\n",
       "        text-align: right;\n",
       "    }\n",
       "\n",
       "    .dataframe thead th {\n",
       "        text-align: left;\n",
       "    }\n",
       "\n",
       "    .dataframe tbody tr th {\n",
       "        vertical-align: top;\n",
       "    }\n",
       "</style>\n",
       "<table border=\"1\" class=\"dataframe\">\n",
       "  <thead>\n",
       "    <tr style=\"text-align: right;\">\n",
       "      <th></th>\n",
       "      <th>ParcelId</th>\n",
       "      <th>201610</th>\n",
       "      <th>201611</th>\n",
       "      <th>201612</th>\n",
       "      <th>201710</th>\n",
       "      <th>201711</th>\n",
       "      <th>201712</th>\n",
       "    </tr>\n",
       "  </thead>\n",
       "  <tbody>\n",
       "    <tr>\n",
       "      <th>0</th>\n",
       "      <td>10754147</td>\n",
       "      <td>0</td>\n",
       "      <td>0</td>\n",
       "      <td>0</td>\n",
       "      <td>0</td>\n",
       "      <td>0</td>\n",
       "      <td>0</td>\n",
       "    </tr>\n",
       "    <tr>\n",
       "      <th>1</th>\n",
       "      <td>10759547</td>\n",
       "      <td>0</td>\n",
       "      <td>0</td>\n",
       "      <td>0</td>\n",
       "      <td>0</td>\n",
       "      <td>0</td>\n",
       "      <td>0</td>\n",
       "    </tr>\n",
       "    <tr>\n",
       "      <th>2</th>\n",
       "      <td>10843547</td>\n",
       "      <td>0</td>\n",
       "      <td>0</td>\n",
       "      <td>0</td>\n",
       "      <td>0</td>\n",
       "      <td>0</td>\n",
       "      <td>0</td>\n",
       "    </tr>\n",
       "    <tr>\n",
       "      <th>3</th>\n",
       "      <td>10859147</td>\n",
       "      <td>0</td>\n",
       "      <td>0</td>\n",
       "      <td>0</td>\n",
       "      <td>0</td>\n",
       "      <td>0</td>\n",
       "      <td>0</td>\n",
       "    </tr>\n",
       "    <tr>\n",
       "      <th>4</th>\n",
       "      <td>10879947</td>\n",
       "      <td>0</td>\n",
       "      <td>0</td>\n",
       "      <td>0</td>\n",
       "      <td>0</td>\n",
       "      <td>0</td>\n",
       "      <td>0</td>\n",
       "    </tr>\n",
       "  </tbody>\n",
       "</table>\n",
       "</div>"
      ],
      "text/plain": [
       "   ParcelId  201610  201611  201612  201710  201711  201712\n",
       "0  10754147       0       0       0       0       0       0\n",
       "1  10759547       0       0       0       0       0       0\n",
       "2  10843547       0       0       0       0       0       0\n",
       "3  10859147       0       0       0       0       0       0\n",
       "4  10879947       0       0       0       0       0       0"
      ]
     },
     "execution_count": 239,
     "metadata": {},
     "output_type": "execute_result"
    }
   ],
   "source": [
    "sample_submission = pd.read_csv('/home/sravya/data/Kaggle/zillow/sample_submission.csv')\n",
    "sample_submission.head()"
   ]
  },
  {
   "cell_type": "code",
   "execution_count": 240,
   "metadata": {
    "collapsed": false,
    "hidden": true
   },
   "outputs": [
    {
     "data": {
      "text/html": [
       "<div>\n",
       "<style>\n",
       "    .dataframe thead tr:only-child th {\n",
       "        text-align: right;\n",
       "    }\n",
       "\n",
       "    .dataframe thead th {\n",
       "        text-align: left;\n",
       "    }\n",
       "\n",
       "    .dataframe tbody tr th {\n",
       "        vertical-align: top;\n",
       "    }\n",
       "</style>\n",
       "<table border=\"1\" class=\"dataframe\">\n",
       "  <thead>\n",
       "    <tr style=\"text-align: right;\">\n",
       "      <th></th>\n",
       "      <th>Feature</th>\n",
       "      <th>Description</th>\n",
       "    </tr>\n",
       "  </thead>\n",
       "  <tbody>\n",
       "    <tr>\n",
       "      <th>0</th>\n",
       "      <td>'airconditioningtypeid'</td>\n",
       "      <td>Type of cooling system present in the home (i...</td>\n",
       "    </tr>\n",
       "    <tr>\n",
       "      <th>1</th>\n",
       "      <td>'architecturalstyletypeid'</td>\n",
       "      <td>Architectural style of the home (i.e. ranch, ...</td>\n",
       "    </tr>\n",
       "    <tr>\n",
       "      <th>2</th>\n",
       "      <td>'basementsqft'</td>\n",
       "      <td>Finished living area below or partially below...</td>\n",
       "    </tr>\n",
       "    <tr>\n",
       "      <th>3</th>\n",
       "      <td>'bathroomcnt'</td>\n",
       "      <td>Number of bathrooms in home including fractio...</td>\n",
       "    </tr>\n",
       "    <tr>\n",
       "      <th>4</th>\n",
       "      <td>'bedroomcnt'</td>\n",
       "      <td>Number of bedrooms in home</td>\n",
       "    </tr>\n",
       "  </tbody>\n",
       "</table>\n",
       "</div>"
      ],
      "text/plain": [
       "                      Feature  \\\n",
       "0     'airconditioningtypeid'   \n",
       "1  'architecturalstyletypeid'   \n",
       "2              'basementsqft'   \n",
       "3               'bathroomcnt'   \n",
       "4                'bedroomcnt'   \n",
       "\n",
       "                                         Description  \n",
       "0   Type of cooling system present in the home (i...  \n",
       "1   Architectural style of the home (i.e. ranch, ...  \n",
       "2   Finished living area below or partially below...  \n",
       "3   Number of bathrooms in home including fractio...  \n",
       "4                        Number of bedrooms in home   "
      ]
     },
     "execution_count": 240,
     "metadata": {},
     "output_type": "execute_result"
    }
   ],
   "source": [
    "dictionary = pd.read_excel('/home/sravya/data/Kaggle/zillow/zillow_data_dictionary.xlsx')\n",
    "dictionary.head()"
   ]
  },
  {
   "cell_type": "markdown",
   "metadata": {},
   "source": [
    "# Data exploration"
   ]
  },
  {
   "cell_type": "markdown",
   "metadata": {},
   "source": [
    "## Generic exploration"
   ]
  },
  {
   "cell_type": "code",
   "execution_count": 241,
   "metadata": {
    "collapsed": false
   },
   "outputs": [
    {
     "data": {
      "text/plain": [
       "(2985217, 58)"
      ]
     },
     "execution_count": 241,
     "metadata": {},
     "output_type": "execute_result"
    }
   ],
   "source": [
    "props.shape"
   ]
  },
  {
   "cell_type": "code",
   "execution_count": 242,
   "metadata": {
    "collapsed": false
   },
   "outputs": [
    {
     "data": {
      "text/html": [
       "<div>\n",
       "<style>\n",
       "    .dataframe thead tr:only-child th {\n",
       "        text-align: right;\n",
       "    }\n",
       "\n",
       "    .dataframe thead th {\n",
       "        text-align: left;\n",
       "    }\n",
       "\n",
       "    .dataframe tbody tr th {\n",
       "        vertical-align: top;\n",
       "    }\n",
       "</style>\n",
       "<table border=\"1\" class=\"dataframe\">\n",
       "  <thead>\n",
       "    <tr style=\"text-align: right;\">\n",
       "      <th></th>\n",
       "      <th>parcelid</th>\n",
       "      <th>airconditioningtypeid</th>\n",
       "      <th>architecturalstyletypeid</th>\n",
       "      <th>basementsqft</th>\n",
       "      <th>bathroomcnt</th>\n",
       "      <th>bedroomcnt</th>\n",
       "      <th>buildingclasstypeid</th>\n",
       "      <th>buildingqualitytypeid</th>\n",
       "      <th>calculatedbathnbr</th>\n",
       "      <th>decktypeid</th>\n",
       "      <th>...</th>\n",
       "      <th>yardbuildingsqft26</th>\n",
       "      <th>yearbuilt</th>\n",
       "      <th>numberofstories</th>\n",
       "      <th>structuretaxvaluedollarcnt</th>\n",
       "      <th>taxvaluedollarcnt</th>\n",
       "      <th>assessmentyear</th>\n",
       "      <th>landtaxvaluedollarcnt</th>\n",
       "      <th>taxamount</th>\n",
       "      <th>taxdelinquencyyear</th>\n",
       "      <th>censustractandblock</th>\n",
       "    </tr>\n",
       "  </thead>\n",
       "  <tbody>\n",
       "    <tr>\n",
       "      <th>count</th>\n",
       "      <td>2985217.0000</td>\n",
       "      <td>811519.0000</td>\n",
       "      <td>6061.0000</td>\n",
       "      <td>1628.0000</td>\n",
       "      <td>2973755.0000</td>\n",
       "      <td>2973767.0000</td>\n",
       "      <td>12629.0000</td>\n",
       "      <td>1938488.0000</td>\n",
       "      <td>2856305.0000</td>\n",
       "      <td>17096.0000</td>\n",
       "      <td>...</td>\n",
       "      <td>2647.0000</td>\n",
       "      <td>2925289.0000</td>\n",
       "      <td>682069.0000</td>\n",
       "      <td>2930235.0000</td>\n",
       "      <td>2942667.0000</td>\n",
       "      <td>2973778.0000</td>\n",
       "      <td>2917484.0000</td>\n",
       "      <td>2953967.0000</td>\n",
       "      <td>56464.0000</td>\n",
       "      <td>2910091.0000</td>\n",
       "    </tr>\n",
       "    <tr>\n",
       "      <th>mean</th>\n",
       "      <td>13325858.3602</td>\n",
       "      <td>1.9312</td>\n",
       "      <td>7.2026</td>\n",
       "      <td>646.8833</td>\n",
       "      <td>2.2091</td>\n",
       "      <td>3.0889</td>\n",
       "      <td>3.7259</td>\n",
       "      <td>5.7848</td>\n",
       "      <td>2.2993</td>\n",
       "      <td>66.0000</td>\n",
       "      <td>...</td>\n",
       "      <td>278.2966</td>\n",
       "      <td>1964.2616</td>\n",
       "      <td>1.4015</td>\n",
       "      <td>170883.5772</td>\n",
       "      <td>420478.9907</td>\n",
       "      <td>2014.9995</td>\n",
       "      <td>252478.0295</td>\n",
       "      <td>5377.6071</td>\n",
       "      <td>13.8924</td>\n",
       "      <td>60484312212574.4297</td>\n",
       "    </tr>\n",
       "    <tr>\n",
       "      <th>std</th>\n",
       "      <td>7909966.3892</td>\n",
       "      <td>3.1486</td>\n",
       "      <td>2.4363</td>\n",
       "      <td>538.7935</td>\n",
       "      <td>1.0778</td>\n",
       "      <td>1.2759</td>\n",
       "      <td>0.5017</td>\n",
       "      <td>1.8054</td>\n",
       "      <td>1.0007</td>\n",
       "      <td>0.0000</td>\n",
       "      <td>...</td>\n",
       "      <td>369.7315</td>\n",
       "      <td>23.4413</td>\n",
       "      <td>0.5391</td>\n",
       "      <td>402068.3420</td>\n",
       "      <td>726346.6518</td>\n",
       "      <td>0.0368</td>\n",
       "      <td>445013.1696</td>\n",
       "      <td>9183.1071</td>\n",
       "      <td>2.5810</td>\n",
       "      <td>324903454737.3072</td>\n",
       "    </tr>\n",
       "    <tr>\n",
       "      <th>min</th>\n",
       "      <td>10711725.0000</td>\n",
       "      <td>1.0000</td>\n",
       "      <td>2.0000</td>\n",
       "      <td>20.0000</td>\n",
       "      <td>0.0000</td>\n",
       "      <td>0.0000</td>\n",
       "      <td>1.0000</td>\n",
       "      <td>1.0000</td>\n",
       "      <td>1.0000</td>\n",
       "      <td>66.0000</td>\n",
       "      <td>...</td>\n",
       "      <td>10.0000</td>\n",
       "      <td>1801.0000</td>\n",
       "      <td>1.0000</td>\n",
       "      <td>1.0000</td>\n",
       "      <td>1.0000</td>\n",
       "      <td>2000.0000</td>\n",
       "      <td>1.0000</td>\n",
       "      <td>1.3400</td>\n",
       "      <td>0.0000</td>\n",
       "      <td>-1.0000</td>\n",
       "    </tr>\n",
       "    <tr>\n",
       "      <th>25%</th>\n",
       "      <td>11643707.0000</td>\n",
       "      <td>1.0000</td>\n",
       "      <td>7.0000</td>\n",
       "      <td>272.0000</td>\n",
       "      <td>2.0000</td>\n",
       "      <td>2.0000</td>\n",
       "      <td>3.0000</td>\n",
       "      <td>4.0000</td>\n",
       "      <td>2.0000</td>\n",
       "      <td>66.0000</td>\n",
       "      <td>...</td>\n",
       "      <td>96.0000</td>\n",
       "      <td>1950.0000</td>\n",
       "      <td>1.0000</td>\n",
       "      <td>74800.0000</td>\n",
       "      <td>179675.0000</td>\n",
       "      <td>2015.0000</td>\n",
       "      <td>74836.0000</td>\n",
       "      <td>2461.0700</td>\n",
       "      <td>14.0000</td>\n",
       "      <td>60374002041015.0000</td>\n",
       "    </tr>\n",
       "    <tr>\n",
       "      <th>50%</th>\n",
       "      <td>12545094.0000</td>\n",
       "      <td>1.0000</td>\n",
       "      <td>7.0000</td>\n",
       "      <td>534.0000</td>\n",
       "      <td>2.0000</td>\n",
       "      <td>3.0000</td>\n",
       "      <td>4.0000</td>\n",
       "      <td>7.0000</td>\n",
       "      <td>2.0000</td>\n",
       "      <td>66.0000</td>\n",
       "      <td>...</td>\n",
       "      <td>168.0000</td>\n",
       "      <td>1963.0000</td>\n",
       "      <td>1.0000</td>\n",
       "      <td>122590.0000</td>\n",
       "      <td>306086.0000</td>\n",
       "      <td>2015.0000</td>\n",
       "      <td>167042.0000</td>\n",
       "      <td>3991.7800</td>\n",
       "      <td>14.0000</td>\n",
       "      <td>60375715022011.0000</td>\n",
       "    </tr>\n",
       "    <tr>\n",
       "      <th>75%</th>\n",
       "      <td>14097122.0000</td>\n",
       "      <td>1.0000</td>\n",
       "      <td>7.0000</td>\n",
       "      <td>847.2500</td>\n",
       "      <td>3.0000</td>\n",
       "      <td>4.0000</td>\n",
       "      <td>4.0000</td>\n",
       "      <td>7.0000</td>\n",
       "      <td>3.0000</td>\n",
       "      <td>66.0000</td>\n",
       "      <td>...</td>\n",
       "      <td>320.0000</td>\n",
       "      <td>1981.0000</td>\n",
       "      <td>2.0000</td>\n",
       "      <td>196889.0000</td>\n",
       "      <td>488000.0000</td>\n",
       "      <td>2015.0000</td>\n",
       "      <td>306918.0000</td>\n",
       "      <td>6201.0050</td>\n",
       "      <td>15.0000</td>\n",
       "      <td>60590423191014.0000</td>\n",
       "    </tr>\n",
       "    <tr>\n",
       "      <th>max</th>\n",
       "      <td>169601949.0000</td>\n",
       "      <td>13.0000</td>\n",
       "      <td>27.0000</td>\n",
       "      <td>8516.0000</td>\n",
       "      <td>20.0000</td>\n",
       "      <td>20.0000</td>\n",
       "      <td>5.0000</td>\n",
       "      <td>12.0000</td>\n",
       "      <td>20.0000</td>\n",
       "      <td>66.0000</td>\n",
       "      <td>...</td>\n",
       "      <td>6141.0000</td>\n",
       "      <td>2015.0000</td>\n",
       "      <td>41.0000</td>\n",
       "      <td>251486000.0000</td>\n",
       "      <td>282786000.0000</td>\n",
       "      <td>2016.0000</td>\n",
       "      <td>90246219.0000</td>\n",
       "      <td>3458861.1200</td>\n",
       "      <td>99.0000</td>\n",
       "      <td>483030105084015.0000</td>\n",
       "    </tr>\n",
       "  </tbody>\n",
       "</table>\n",
       "<p>8 rows × 53 columns</p>\n",
       "</div>"
      ],
      "text/plain": [
       "            parcelid  airconditioningtypeid  architecturalstyletypeid  \\\n",
       "count   2985217.0000            811519.0000                 6061.0000   \n",
       "mean   13325858.3602                 1.9312                    7.2026   \n",
       "std     7909966.3892                 3.1486                    2.4363   \n",
       "min    10711725.0000                 1.0000                    2.0000   \n",
       "25%    11643707.0000                 1.0000                    7.0000   \n",
       "50%    12545094.0000                 1.0000                    7.0000   \n",
       "75%    14097122.0000                 1.0000                    7.0000   \n",
       "max   169601949.0000                13.0000                   27.0000   \n",
       "\n",
       "       basementsqft  bathroomcnt   bedroomcnt  buildingclasstypeid  \\\n",
       "count     1628.0000 2973755.0000 2973767.0000           12629.0000   \n",
       "mean       646.8833       2.2091       3.0889               3.7259   \n",
       "std        538.7935       1.0778       1.2759               0.5017   \n",
       "min         20.0000       0.0000       0.0000               1.0000   \n",
       "25%        272.0000       2.0000       2.0000               3.0000   \n",
       "50%        534.0000       2.0000       3.0000               4.0000   \n",
       "75%        847.2500       3.0000       4.0000               4.0000   \n",
       "max       8516.0000      20.0000      20.0000               5.0000   \n",
       "\n",
       "       buildingqualitytypeid  calculatedbathnbr  decktypeid  \\\n",
       "count           1938488.0000       2856305.0000  17096.0000   \n",
       "mean                  5.7848             2.2993     66.0000   \n",
       "std                   1.8054             1.0007      0.0000   \n",
       "min                   1.0000             1.0000     66.0000   \n",
       "25%                   4.0000             2.0000     66.0000   \n",
       "50%                   7.0000             2.0000     66.0000   \n",
       "75%                   7.0000             3.0000     66.0000   \n",
       "max                  12.0000            20.0000     66.0000   \n",
       "\n",
       "              ...           yardbuildingsqft26    yearbuilt  numberofstories  \\\n",
       "count         ...                    2647.0000 2925289.0000      682069.0000   \n",
       "mean          ...                     278.2966    1964.2616           1.4015   \n",
       "std           ...                     369.7315      23.4413           0.5391   \n",
       "min           ...                      10.0000    1801.0000           1.0000   \n",
       "25%           ...                      96.0000    1950.0000           1.0000   \n",
       "50%           ...                     168.0000    1963.0000           1.0000   \n",
       "75%           ...                     320.0000    1981.0000           2.0000   \n",
       "max           ...                    6141.0000    2015.0000          41.0000   \n",
       "\n",
       "       structuretaxvaluedollarcnt  taxvaluedollarcnt  assessmentyear  \\\n",
       "count                2930235.0000       2942667.0000    2973778.0000   \n",
       "mean                  170883.5772        420478.9907       2014.9995   \n",
       "std                   402068.3420        726346.6518          0.0368   \n",
       "min                        1.0000             1.0000       2000.0000   \n",
       "25%                    74800.0000        179675.0000       2015.0000   \n",
       "50%                   122590.0000        306086.0000       2015.0000   \n",
       "75%                   196889.0000        488000.0000       2015.0000   \n",
       "max                251486000.0000     282786000.0000       2016.0000   \n",
       "\n",
       "       landtaxvaluedollarcnt    taxamount  taxdelinquencyyear  \\\n",
       "count           2917484.0000 2953967.0000          56464.0000   \n",
       "mean             252478.0295    5377.6071             13.8924   \n",
       "std              445013.1696    9183.1071              2.5810   \n",
       "min                   1.0000       1.3400              0.0000   \n",
       "25%               74836.0000    2461.0700             14.0000   \n",
       "50%              167042.0000    3991.7800             14.0000   \n",
       "75%              306918.0000    6201.0050             15.0000   \n",
       "max            90246219.0000 3458861.1200             99.0000   \n",
       "\n",
       "       censustractandblock  \n",
       "count         2910091.0000  \n",
       "mean   60484312212574.4297  \n",
       "std      324903454737.3072  \n",
       "min                -1.0000  \n",
       "25%    60374002041015.0000  \n",
       "50%    60375715022011.0000  \n",
       "75%    60590423191014.0000  \n",
       "max   483030105084015.0000  \n",
       "\n",
       "[8 rows x 53 columns]"
      ]
     },
     "execution_count": 242,
     "metadata": {},
     "output_type": "execute_result"
    }
   ],
   "source": [
    "props.describe()"
   ]
  },
  {
   "cell_type": "code",
   "execution_count": 243,
   "metadata": {
    "collapsed": false
   },
   "outputs": [
    {
     "name": "stderr",
     "output_type": "stream",
     "text": [
      "Exception ignored in: <bound method DMatrix.__del__ of <xgboost.core.DMatrix object at 0x7fbb8db81f28>>\n",
      "Traceback (most recent call last):\n",
      "  File \"/home/sravya/anaconda3/lib/python3.6/site-packages/xgboost/core.py\", line 324, in __del__\n",
      "    _check_call(_LIB.XGDMatrixFree(self.handle))\n",
      "AttributeError: 'DMatrix' object has no attribute 'handle'\n"
     ]
    },
    {
     "data": {
      "text/html": [
       "<div>\n",
       "<style>\n",
       "    .dataframe thead tr:only-child th {\n",
       "        text-align: right;\n",
       "    }\n",
       "\n",
       "    .dataframe thead th {\n",
       "        text-align: left;\n",
       "    }\n",
       "\n",
       "    .dataframe tbody tr th {\n",
       "        vertical-align: top;\n",
       "    }\n",
       "</style>\n",
       "<table border=\"1\" class=\"dataframe\">\n",
       "  <thead>\n",
       "    <tr style=\"text-align: right;\">\n",
       "      <th></th>\n",
       "      <th>parcelid</th>\n",
       "      <th>airconditioningtypeid</th>\n",
       "      <th>architecturalstyletypeid</th>\n",
       "      <th>basementsqft</th>\n",
       "      <th>bathroomcnt</th>\n",
       "      <th>bedroomcnt</th>\n",
       "      <th>buildingclasstypeid</th>\n",
       "      <th>buildingqualitytypeid</th>\n",
       "      <th>calculatedbathnbr</th>\n",
       "      <th>decktypeid</th>\n",
       "      <th>...</th>\n",
       "      <th>yardbuildingsqft26</th>\n",
       "      <th>yearbuilt</th>\n",
       "      <th>numberofstories</th>\n",
       "      <th>structuretaxvaluedollarcnt</th>\n",
       "      <th>taxvaluedollarcnt</th>\n",
       "      <th>assessmentyear</th>\n",
       "      <th>landtaxvaluedollarcnt</th>\n",
       "      <th>taxamount</th>\n",
       "      <th>taxdelinquencyyear</th>\n",
       "      <th>censustractandblock</th>\n",
       "    </tr>\n",
       "  </thead>\n",
       "  <tbody>\n",
       "    <tr>\n",
       "      <th>count</th>\n",
       "      <td>2985217</td>\n",
       "      <td>811519</td>\n",
       "      <td>6061</td>\n",
       "      <td>1628</td>\n",
       "      <td>2973755</td>\n",
       "      <td>2973767</td>\n",
       "      <td>12629</td>\n",
       "      <td>1938488</td>\n",
       "      <td>2856305</td>\n",
       "      <td>17096</td>\n",
       "      <td>...</td>\n",
       "      <td>2647</td>\n",
       "      <td>2925289</td>\n",
       "      <td>682069</td>\n",
       "      <td>2930235</td>\n",
       "      <td>2942667</td>\n",
       "      <td>2973778</td>\n",
       "      <td>2917484</td>\n",
       "      <td>2953967</td>\n",
       "      <td>56464</td>\n",
       "      <td>2910091</td>\n",
       "    </tr>\n",
       "    <tr>\n",
       "      <th>mean</th>\n",
       "      <td>13325858</td>\n",
       "      <td>2</td>\n",
       "      <td>7</td>\n",
       "      <td>647</td>\n",
       "      <td>2</td>\n",
       "      <td>3</td>\n",
       "      <td>4</td>\n",
       "      <td>6</td>\n",
       "      <td>2</td>\n",
       "      <td>66</td>\n",
       "      <td>...</td>\n",
       "      <td>278</td>\n",
       "      <td>1964</td>\n",
       "      <td>1</td>\n",
       "      <td>170884</td>\n",
       "      <td>420479</td>\n",
       "      <td>2015</td>\n",
       "      <td>252478</td>\n",
       "      <td>5378</td>\n",
       "      <td>14</td>\n",
       "      <td>60484312212574</td>\n",
       "    </tr>\n",
       "    <tr>\n",
       "      <th>std</th>\n",
       "      <td>7909966</td>\n",
       "      <td>3</td>\n",
       "      <td>2</td>\n",
       "      <td>539</td>\n",
       "      <td>1</td>\n",
       "      <td>1</td>\n",
       "      <td>1</td>\n",
       "      <td>2</td>\n",
       "      <td>1</td>\n",
       "      <td>0</td>\n",
       "      <td>...</td>\n",
       "      <td>370</td>\n",
       "      <td>23</td>\n",
       "      <td>1</td>\n",
       "      <td>402068</td>\n",
       "      <td>726347</td>\n",
       "      <td>0</td>\n",
       "      <td>445013</td>\n",
       "      <td>9183</td>\n",
       "      <td>3</td>\n",
       "      <td>324903454737</td>\n",
       "    </tr>\n",
       "    <tr>\n",
       "      <th>min</th>\n",
       "      <td>10711725</td>\n",
       "      <td>1</td>\n",
       "      <td>2</td>\n",
       "      <td>20</td>\n",
       "      <td>0</td>\n",
       "      <td>0</td>\n",
       "      <td>1</td>\n",
       "      <td>1</td>\n",
       "      <td>1</td>\n",
       "      <td>66</td>\n",
       "      <td>...</td>\n",
       "      <td>10</td>\n",
       "      <td>1801</td>\n",
       "      <td>1</td>\n",
       "      <td>1</td>\n",
       "      <td>1</td>\n",
       "      <td>2000</td>\n",
       "      <td>1</td>\n",
       "      <td>1</td>\n",
       "      <td>0</td>\n",
       "      <td>-1</td>\n",
       "    </tr>\n",
       "    <tr>\n",
       "      <th>25%</th>\n",
       "      <td>11643707</td>\n",
       "      <td>1</td>\n",
       "      <td>7</td>\n",
       "      <td>272</td>\n",
       "      <td>2</td>\n",
       "      <td>2</td>\n",
       "      <td>3</td>\n",
       "      <td>4</td>\n",
       "      <td>2</td>\n",
       "      <td>66</td>\n",
       "      <td>...</td>\n",
       "      <td>96</td>\n",
       "      <td>1950</td>\n",
       "      <td>1</td>\n",
       "      <td>74800</td>\n",
       "      <td>179675</td>\n",
       "      <td>2015</td>\n",
       "      <td>74836</td>\n",
       "      <td>2461</td>\n",
       "      <td>14</td>\n",
       "      <td>60374002041015</td>\n",
       "    </tr>\n",
       "    <tr>\n",
       "      <th>50%</th>\n",
       "      <td>12545094</td>\n",
       "      <td>1</td>\n",
       "      <td>7</td>\n",
       "      <td>534</td>\n",
       "      <td>2</td>\n",
       "      <td>3</td>\n",
       "      <td>4</td>\n",
       "      <td>7</td>\n",
       "      <td>2</td>\n",
       "      <td>66</td>\n",
       "      <td>...</td>\n",
       "      <td>168</td>\n",
       "      <td>1963</td>\n",
       "      <td>1</td>\n",
       "      <td>122590</td>\n",
       "      <td>306086</td>\n",
       "      <td>2015</td>\n",
       "      <td>167042</td>\n",
       "      <td>3992</td>\n",
       "      <td>14</td>\n",
       "      <td>60375715022011</td>\n",
       "    </tr>\n",
       "    <tr>\n",
       "      <th>75%</th>\n",
       "      <td>14097122</td>\n",
       "      <td>1</td>\n",
       "      <td>7</td>\n",
       "      <td>847</td>\n",
       "      <td>3</td>\n",
       "      <td>4</td>\n",
       "      <td>4</td>\n",
       "      <td>7</td>\n",
       "      <td>3</td>\n",
       "      <td>66</td>\n",
       "      <td>...</td>\n",
       "      <td>320</td>\n",
       "      <td>1981</td>\n",
       "      <td>2</td>\n",
       "      <td>196889</td>\n",
       "      <td>488000</td>\n",
       "      <td>2015</td>\n",
       "      <td>306918</td>\n",
       "      <td>6201</td>\n",
       "      <td>15</td>\n",
       "      <td>60590423191014</td>\n",
       "    </tr>\n",
       "    <tr>\n",
       "      <th>max</th>\n",
       "      <td>169601949</td>\n",
       "      <td>13</td>\n",
       "      <td>27</td>\n",
       "      <td>8516</td>\n",
       "      <td>20</td>\n",
       "      <td>20</td>\n",
       "      <td>5</td>\n",
       "      <td>12</td>\n",
       "      <td>20</td>\n",
       "      <td>66</td>\n",
       "      <td>...</td>\n",
       "      <td>6141</td>\n",
       "      <td>2015</td>\n",
       "      <td>41</td>\n",
       "      <td>251486000</td>\n",
       "      <td>282786000</td>\n",
       "      <td>2016</td>\n",
       "      <td>90246219</td>\n",
       "      <td>3458861</td>\n",
       "      <td>99</td>\n",
       "      <td>483030105084015</td>\n",
       "    </tr>\n",
       "  </tbody>\n",
       "</table>\n",
       "<p>8 rows × 53 columns</p>\n",
       "</div>"
      ],
      "text/plain": [
       "       parcelid  airconditioningtypeid  architecturalstyletypeid  \\\n",
       "count   2985217                 811519                      6061   \n",
       "mean   13325858                      2                         7   \n",
       "std     7909966                      3                         2   \n",
       "min    10711725                      1                         2   \n",
       "25%    11643707                      1                         7   \n",
       "50%    12545094                      1                         7   \n",
       "75%    14097122                      1                         7   \n",
       "max   169601949                     13                        27   \n",
       "\n",
       "       basementsqft  bathroomcnt  bedroomcnt  buildingclasstypeid  \\\n",
       "count          1628      2973755     2973767                12629   \n",
       "mean            647            2           3                    4   \n",
       "std             539            1           1                    1   \n",
       "min              20            0           0                    1   \n",
       "25%             272            2           2                    3   \n",
       "50%             534            2           3                    4   \n",
       "75%             847            3           4                    4   \n",
       "max            8516           20          20                    5   \n",
       "\n",
       "       buildingqualitytypeid  calculatedbathnbr  decktypeid  \\\n",
       "count                1938488            2856305       17096   \n",
       "mean                       6                  2          66   \n",
       "std                        2                  1           0   \n",
       "min                        1                  1          66   \n",
       "25%                        4                  2          66   \n",
       "50%                        7                  2          66   \n",
       "75%                        7                  3          66   \n",
       "max                       12                 20          66   \n",
       "\n",
       "              ...           yardbuildingsqft26  yearbuilt  numberofstories  \\\n",
       "count         ...                         2647    2925289           682069   \n",
       "mean          ...                          278       1964                1   \n",
       "std           ...                          370         23                1   \n",
       "min           ...                           10       1801                1   \n",
       "25%           ...                           96       1950                1   \n",
       "50%           ...                          168       1963                1   \n",
       "75%           ...                          320       1981                2   \n",
       "max           ...                         6141       2015               41   \n",
       "\n",
       "       structuretaxvaluedollarcnt  taxvaluedollarcnt  assessmentyear  \\\n",
       "count                     2930235            2942667         2973778   \n",
       "mean                       170884             420479            2015   \n",
       "std                        402068             726347               0   \n",
       "min                             1                  1            2000   \n",
       "25%                         74800             179675            2015   \n",
       "50%                        122590             306086            2015   \n",
       "75%                        196889             488000            2015   \n",
       "max                     251486000          282786000            2016   \n",
       "\n",
       "       landtaxvaluedollarcnt  taxamount  taxdelinquencyyear  \\\n",
       "count                2917484    2953967               56464   \n",
       "mean                  252478       5378                  14   \n",
       "std                   445013       9183                   3   \n",
       "min                        1          1                   0   \n",
       "25%                    74836       2461                  14   \n",
       "50%                   167042       3992                  14   \n",
       "75%                   306918       6201                  15   \n",
       "max                 90246219    3458861                  99   \n",
       "\n",
       "       censustractandblock  \n",
       "count              2910091  \n",
       "mean        60484312212574  \n",
       "std           324903454737  \n",
       "min                     -1  \n",
       "25%         60374002041015  \n",
       "50%         60375715022011  \n",
       "75%         60590423191014  \n",
       "max        483030105084015  \n",
       "\n",
       "[8 rows x 53 columns]"
      ]
     },
     "execution_count": 243,
     "metadata": {},
     "output_type": "execute_result"
    }
   ],
   "source": [
    "pd.set_option('precision', 6)\n",
    "pd.set_option('display.float_format', lambda x: '%.0f' % x)\n",
    "props.describe()"
   ]
  },
  {
   "cell_type": "code",
   "execution_count": 244,
   "metadata": {
    "collapsed": false
   },
   "outputs": [
    {
     "data": {
      "text/plain": [
       "count   202717\n",
       "mean      1381\n",
       "std        633\n",
       "min          3\n",
       "25%       1012\n",
       "50%       1283\n",
       "75%       1615\n",
       "max      31303\n",
       "Name: finishedfloor1squarefeet, dtype: float64"
      ]
     },
     "execution_count": 244,
     "metadata": {},
     "output_type": "execute_result"
    }
   ],
   "source": [
    "props['finishedfloor1squarefeet'].describe()"
   ]
  },
  {
   "cell_type": "code",
   "execution_count": 245,
   "metadata": {
    "collapsed": false
   },
   "outputs": [
    {
     "data": {
      "text/plain": [
       "count   2973780\n",
       "mean       6048\n",
       "std          20\n",
       "min        6037\n",
       "25%        6037\n",
       "50%        6037\n",
       "75%        6059\n",
       "max        6111\n",
       "Name: fips, dtype: float64"
      ]
     },
     "execution_count": 245,
     "metadata": {},
     "output_type": "execute_result"
    }
   ],
   "source": [
    "props['fips'].describe()"
   ]
  },
  {
   "cell_type": "code",
   "execution_count": 246,
   "metadata": {
    "collapsed": false
   },
   "outputs": [
    {
     "data": {
      "text/plain": [
       "count     5163\n",
       "unique       1\n",
       "top       True\n",
       "freq      5163\n",
       "Name: fireplaceflag, dtype: object"
      ]
     },
     "execution_count": 246,
     "metadata": {},
     "output_type": "execute_result"
    }
   ],
   "source": [
    "props['fireplaceflag'].describe()\n",
    "# Are some of the missing values false? or all?"
   ]
  },
  {
   "cell_type": "code",
   "execution_count": 247,
   "metadata": {
    "collapsed": false
   },
   "outputs": [
    {
     "data": {
      "text/plain": [
       "count     69014\n",
       "unique        1\n",
       "top        True\n",
       "freq      69014\n",
       "Name: hashottuborspa, dtype: object"
      ]
     },
     "execution_count": 247,
     "metadata": {},
     "output_type": "execute_result"
    }
   ],
   "source": [
    "props['hashottuborspa'].describe()\n",
    "# Are some of the missing values false? or all?"
   ]
  },
  {
   "cell_type": "code",
   "execution_count": 248,
   "metadata": {
    "collapsed": false
   },
   "outputs": [
    {
     "data": {
      "text/plain": [
       "count   1806401\n",
       "mean          4\n",
       "std           3\n",
       "min           1\n",
       "25%           2\n",
       "50%           2\n",
       "75%           7\n",
       "max          24\n",
       "Name: heatingorsystemtypeid, dtype: float64"
      ]
     },
     "execution_count": 248,
     "metadata": {},
     "output_type": "execute_result"
    }
   ],
   "source": [
    "props['heatingorsystemtypeid'].describe()"
   ]
  },
  {
   "cell_type": "code",
   "execution_count": 249,
   "metadata": {
    "collapsed": false
   },
   "outputs": [
    {
     "data": {
      "text/plain": [
       "count   36939\n",
       "mean        1\n",
       "std         0\n",
       "min         1\n",
       "25%         1\n",
       "50%         1\n",
       "75%         1\n",
       "max         1\n",
       "Name: pooltypeid10, dtype: float64"
      ]
     },
     "execution_count": 249,
     "metadata": {},
     "output_type": "execute_result"
    }
   ],
   "source": [
    "props['pooltypeid10'].describe()"
   ]
  },
  {
   "cell_type": "code",
   "execution_count": 250,
   "metadata": {
    "collapsed": false
   },
   "outputs": [
    {
     "data": {
      "text/plain": [
       "count   32075\n",
       "mean        1\n",
       "std         0\n",
       "min         1\n",
       "25%         1\n",
       "50%         1\n",
       "75%         1\n",
       "max         1\n",
       "Name: pooltypeid2, dtype: float64"
      ]
     },
     "execution_count": 250,
     "metadata": {},
     "output_type": "execute_result"
    }
   ],
   "source": [
    "props['pooltypeid2'].describe()"
   ]
  },
  {
   "cell_type": "code",
   "execution_count": 251,
   "metadata": {
    "collapsed": false
   },
   "outputs": [
    {
     "data": {
      "text/plain": [
       "count   485459\n",
       "mean         1\n",
       "std          0\n",
       "min          1\n",
       "25%          1\n",
       "50%          1\n",
       "75%          1\n",
       "max          1\n",
       "Name: pooltypeid7, dtype: float64"
      ]
     },
     "execution_count": 251,
     "metadata": {},
     "output_type": "execute_result"
    }
   ],
   "source": [
    "props['pooltypeid7'].describe()"
   ]
  },
  {
   "cell_type": "code",
   "execution_count": 252,
   "metadata": {
    "collapsed": false
   },
   "outputs": [
    {
     "data": {
      "text/plain": [
       "count     2972940\n",
       "unique        240\n",
       "top          0100\n",
       "freq      1153896\n",
       "Name: propertycountylandusecode, dtype: object"
      ]
     },
     "execution_count": 252,
     "metadata": {},
     "output_type": "execute_result"
    }
   ],
   "source": [
    "props['propertycountylandusecode'].describe()"
   ]
  },
  {
   "cell_type": "code",
   "execution_count": 253,
   "metadata": {
    "collapsed": false
   },
   "outputs": [
    {
     "data": {
      "text/plain": [
       "count   2973780\n",
       "mean        260\n",
       "std          16\n",
       "min          31\n",
       "25%         261\n",
       "50%         261\n",
       "75%         261\n",
       "max         275\n",
       "Name: propertylandusetypeid, dtype: float64"
      ]
     },
     "execution_count": 253,
     "metadata": {},
     "output_type": "execute_result"
    }
   ],
   "source": [
    "props['propertylandusetypeid'].describe()"
   ]
  },
  {
   "cell_type": "code",
   "execution_count": 254,
   "metadata": {
    "collapsed": false
   },
   "outputs": [
    {
     "data": {
      "text/plain": [
       "count     1978629\n",
       "unique       5638\n",
       "top          LAR1\n",
       "freq       275029\n",
       "Name: propertyzoningdesc, dtype: object"
      ]
     },
     "execution_count": 254,
     "metadata": {},
     "output_type": "execute_result"
    }
   ],
   "source": [
    "props['propertyzoningdesc'].describe()\n"
   ]
  },
  {
   "cell_type": "code",
   "execution_count": 255,
   "metadata": {
    "collapsed": false
   },
   "outputs": [
    {
     "data": {
      "text/plain": [
       "count    2973780\n",
       "mean    60483450\n",
       "std       200812\n",
       "min     60371011\n",
       "25%     60373203\n",
       "50%     60375712\n",
       "75%     60590423\n",
       "max     61110091\n",
       "Name: rawcensustractandblock, dtype: float64"
      ]
     },
     "execution_count": 255,
     "metadata": {},
     "output_type": "execute_result"
    }
   ],
   "source": [
    "props['rawcensustractandblock'].describe()\n"
   ]
  },
  {
   "cell_type": "code",
   "execution_count": 256,
   "metadata": {
    "collapsed": false
   },
   "outputs": [
    {
     "data": {
      "text/plain": [
       "count   1156402\n",
       "mean     193476\n",
       "std      165713\n",
       "min        6952\n",
       "25%       46736\n",
       "50%      118920\n",
       "75%      274800\n",
       "max      764167\n",
       "Name: regionidneighborhood, dtype: float64"
      ]
     },
     "execution_count": 256,
     "metadata": {},
     "output_type": "execute_result"
    }
   ],
   "source": [
    "props['regionidneighborhood'].describe()\n"
   ]
  },
  {
   "cell_type": "code",
   "execution_count": 257,
   "metadata": {
    "collapsed": false
   },
   "outputs": [
    {
     "data": {
      "text/plain": [
       "count   80355\n",
       "mean      320\n",
       "std       233\n",
       "min        10\n",
       "25%       190\n",
       "50%       270\n",
       "75%       390\n",
       "max      7983\n",
       "Name: yardbuildingsqft17, dtype: float64"
      ]
     },
     "execution_count": 257,
     "metadata": {},
     "output_type": "execute_result"
    }
   ],
   "source": [
    "props['yardbuildingsqft17'].describe()"
   ]
  },
  {
   "cell_type": "code",
   "execution_count": 258,
   "metadata": {
    "collapsed": false
   },
   "outputs": [
    {
     "data": {
      "text/plain": [
       "count     56462\n",
       "unique        1\n",
       "top           Y\n",
       "freq      56462\n",
       "Name: taxdelinquencyflag, dtype: object"
      ]
     },
     "execution_count": 258,
     "metadata": {},
     "output_type": "execute_result"
    }
   ],
   "source": [
    "props['taxdelinquencyflag'].describe()\n",
    "# Are some of the missing values false? or all?"
   ]
  },
  {
   "cell_type": "markdown",
   "metadata": {
    "heading_collapsed": true
   },
   "source": [
    "## Data types of features"
   ]
  },
  {
   "cell_type": "code",
   "execution_count": 259,
   "metadata": {
    "collapsed": false,
    "hidden": true
   },
   "outputs": [
    {
     "data": {
      "text/plain": [
       "parcelid                          int64\n",
       "airconditioningtypeid           float64\n",
       "architecturalstyletypeid        float64\n",
       "basementsqft                    float64\n",
       "bathroomcnt                     float64\n",
       "bedroomcnt                      float64\n",
       "buildingclasstypeid             float64\n",
       "buildingqualitytypeid           float64\n",
       "calculatedbathnbr               float64\n",
       "decktypeid                      float64\n",
       "finishedfloor1squarefeet        float64\n",
       "calculatedfinishedsquarefeet    float64\n",
       "finishedsquarefeet12            float64\n",
       "finishedsquarefeet13            float64\n",
       "finishedsquarefeet15            float64\n",
       "finishedsquarefeet50            float64\n",
       "finishedsquarefeet6             float64\n",
       "fips                            float64\n",
       "fireplacecnt                    float64\n",
       "fullbathcnt                     float64\n",
       "garagecarcnt                    float64\n",
       "garagetotalsqft                 float64\n",
       "hashottuborspa                   object\n",
       "heatingorsystemtypeid           float64\n",
       "latitude                        float64\n",
       "longitude                       float64\n",
       "lotsizesquarefeet               float64\n",
       "poolcnt                         float64\n",
       "poolsizesum                     float64\n",
       "pooltypeid10                    float64\n",
       "pooltypeid2                     float64\n",
       "pooltypeid7                     float64\n",
       "propertycountylandusecode        object\n",
       "propertylandusetypeid           float64\n",
       "propertyzoningdesc               object\n",
       "rawcensustractandblock          float64\n",
       "regionidcity                    float64\n",
       "regionidcounty                  float64\n",
       "regionidneighborhood            float64\n",
       "regionidzip                     float64\n",
       "roomcnt                         float64\n",
       "storytypeid                     float64\n",
       "threequarterbathnbr             float64\n",
       "typeconstructiontypeid          float64\n",
       "unitcnt                         float64\n",
       "yardbuildingsqft17              float64\n",
       "yardbuildingsqft26              float64\n",
       "yearbuilt                       float64\n",
       "numberofstories                 float64\n",
       "fireplaceflag                    object\n",
       "structuretaxvaluedollarcnt      float64\n",
       "taxvaluedollarcnt               float64\n",
       "assessmentyear                  float64\n",
       "landtaxvaluedollarcnt           float64\n",
       "taxamount                       float64\n",
       "taxdelinquencyflag               object\n",
       "taxdelinquencyyear              float64\n",
       "censustractandblock             float64\n",
       "dtype: object"
      ]
     },
     "execution_count": 259,
     "metadata": {},
     "output_type": "execute_result"
    }
   ],
   "source": [
    "props.dtypes"
   ]
  },
  {
   "cell_type": "markdown",
   "metadata": {},
   "source": [
    "## Missing values analysis"
   ]
  },
  {
   "cell_type": "code",
   "execution_count": 260,
   "metadata": {
    "collapsed": false
   },
   "outputs": [],
   "source": [
    "missing_counts = props.isnull().sum()"
   ]
  },
  {
   "cell_type": "code",
   "execution_count": 261,
   "metadata": {
    "collapsed": true
   },
   "outputs": [],
   "source": [
    "import matplotlib.pyplot as plt"
   ]
  },
  {
   "cell_type": "code",
   "execution_count": 262,
   "metadata": {
    "collapsed": false
   },
   "outputs": [
    {
     "data": {
      "text/plain": [
       "parcelid                              0\n",
       "airconditioningtypeid           2173698\n",
       "architecturalstyletypeid        2979156\n",
       "basementsqft                    2983589\n",
       "bathroomcnt                       11462\n",
       "bedroomcnt                        11450\n",
       "buildingclasstypeid             2972588\n",
       "buildingqualitytypeid           1046729\n",
       "calculatedbathnbr                128912\n",
       "decktypeid                      2968121\n",
       "finishedfloor1squarefeet        2782500\n",
       "calculatedfinishedsquarefeet      55565\n",
       "finishedsquarefeet12             276033\n",
       "finishedsquarefeet13            2977545\n",
       "finishedsquarefeet15            2794419\n",
       "finishedsquarefeet50            2782500\n",
       "finishedsquarefeet6             2963216\n",
       "fips                              11437\n",
       "fireplacecnt                    2672580\n",
       "fullbathcnt                      128912\n",
       "garagecarcnt                    2101950\n",
       "garagetotalsqft                 2101950\n",
       "hashottuborspa                  2916203\n",
       "heatingorsystemtypeid           1178816\n",
       "latitude                          11437\n",
       "longitude                         11437\n",
       "lotsizesquarefeet                276099\n",
       "poolcnt                         2467683\n",
       "poolsizesum                     2957257\n",
       "pooltypeid10                    2948278\n",
       "pooltypeid2                     2953142\n",
       "pooltypeid7                     2499758\n",
       "propertycountylandusecode         12277\n",
       "propertylandusetypeid             11437\n",
       "propertyzoningdesc              1006588\n",
       "rawcensustractandblock            11437\n",
       "regionidcity                      62845\n",
       "regionidcounty                    11437\n",
       "regionidneighborhood            1828815\n",
       "regionidzip                       13980\n",
       "roomcnt                           11475\n",
       "storytypeid                     2983593\n",
       "threequarterbathnbr             2673586\n",
       "typeconstructiontypeid          2978470\n",
       "unitcnt                         1007727\n",
       "yardbuildingsqft17              2904862\n",
       "yardbuildingsqft26              2982570\n",
       "yearbuilt                         59928\n",
       "numberofstories                 2303148\n",
       "fireplaceflag                   2980054\n",
       "structuretaxvaluedollarcnt        54982\n",
       "taxvaluedollarcnt                 42550\n",
       "assessmentyear                    11439\n",
       "landtaxvaluedollarcnt             67733\n",
       "taxamount                         31250\n",
       "taxdelinquencyflag              2928755\n",
       "taxdelinquencyyear              2928753\n",
       "censustractandblock               75126\n",
       "dtype: int64"
      ]
     },
     "execution_count": 262,
     "metadata": {},
     "output_type": "execute_result"
    }
   ],
   "source": [
    "missing_counts"
   ]
  },
  {
   "cell_type": "code",
   "execution_count": 263,
   "metadata": {
    "collapsed": false
   },
   "outputs": [
    {
     "data": {
      "text/plain": [
       "pandas.core.series.Series"
      ]
     },
     "execution_count": 263,
     "metadata": {},
     "output_type": "execute_result"
    }
   ],
   "source": [
    "type(missing_counts)"
   ]
  },
  {
   "cell_type": "code",
   "execution_count": 264,
   "metadata": {
    "collapsed": false
   },
   "outputs": [
    {
     "data": {
      "image/png": "[encoded data removed]",
      "text/plain": [
       "<matplotlib.figure.Figure at 0x7fbb92a1ce80>"
      ]
     },
     "metadata": {},
     "output_type": "display_data"
    },
    {
     "data": {
      "text/plain": [
       "<matplotlib.figure.Figure at 0x7fbb92a1c1d0>"
      ]
     },
     "metadata": {},
     "output_type": "display_data"
    }
   ],
   "source": [
    "missing_counts[:10].plot.bar()\n",
    "plt.figure(figsize=(100,100)) \n",
    "plt.show()"
   ]
  },
  {
   "cell_type": "markdown",
   "metadata": {},
   "source": [
    "# XGBoost"
   ]
  },
  {
   "cell_type": "code",
   "execution_count": 265,
   "metadata": {
    "collapsed": false
   },
   "outputs": [],
   "source": [
    "import xgboost as xgb"
   ]
  },
  {
   "cell_type": "markdown",
   "metadata": {},
   "source": [
    "## Preprocessing"
   ]
  },
  {
   "cell_type": "code",
   "execution_count": 266,
   "metadata": {
    "collapsed": false
   },
   "outputs": [],
   "source": [
    "from sklearn.preprocessing import LabelEncoder\n",
    "for c in props.columns:\n",
    "    props[c]=props[c].fillna(-1)\n",
    "    if props[c].dtype == 'object':\n",
    "        lbl = LabelEncoder()\n",
    "        lbl.fit(list(props[c].values))\n",
    "        props[c] = lbl.transform(list(props[c].values))\n",
    "# Understand LabelEncoder"
   ]
  },
  {
   "cell_type": "raw",
   "metadata": {},
   "source": [
    "type(y_pred)"
   ]
  },
  {
   "cell_type": "code",
   "execution_count": 267,
   "metadata": {
    "collapsed": false
   },
   "outputs": [],
   "source": [
    "train_df = train.merge(props, how='left', on='parcelid')"
   ]
  },
  {
   "cell_type": "code",
   "execution_count": 268,
   "metadata": {
    "collapsed": false
   },
   "outputs": [
    {
     "data": {
      "text/plain": [
       "pandas.core.series.Series"
      ]
     },
     "execution_count": 268,
     "metadata": {},
     "output_type": "execute_result"
    }
   ],
   "source": [
    "type(train_df.logerror)"
   ]
  },
  {
   "cell_type": "code",
   "execution_count": 269,
   "metadata": {
    "collapsed": false
   },
   "outputs": [
    {
     "data": {
      "image/png": "[encoded data removed]",
      "text/plain": [
       "<matplotlib.figure.Figure at 0x7fbb92a42470>"
      ]
     },
     "metadata": {},
     "output_type": "display_data"
    }
   ],
   "source": [
    "train_df.logerror.plot.hist(bins=20)\n",
    "plt.show()"
   ]
  },
  {
   "cell_type": "code",
   "execution_count": 270,
   "metadata": {
    "collapsed": false
   },
   "outputs": [
    {
     "data": {
      "text/plain": [
       "8503162862"
      ]
     },
     "execution_count": 270,
     "metadata": {},
     "output_type": "execute_result"
    }
   ],
   "source": [
    "train_df[train_df.logerror <-0.4].parcelid.sum()"
   ]
  },
  {
   "cell_type": "code",
   "execution_count": 271,
   "metadata": {
    "collapsed": false
   },
   "outputs": [
    {
     "data": {
      "text/plain": [
       "10091118029"
      ]
     },
     "execution_count": 271,
     "metadata": {},
     "output_type": "execute_result"
    }
   ],
   "source": [
    "train_df[train_df.logerror > 0.5].parcelid.sum()"
   ]
  },
  {
   "cell_type": "code",
   "execution_count": 272,
   "metadata": {
    "collapsed": true
   },
   "outputs": [],
   "source": [
    "# drop out ouliers\n",
    "train_df=train_df[ train_df.logerror > -0.4 ]\n",
    "train_df=train_df[ train_df.logerror < 0.5 ]\n",
    "#train_df=train_df[ train_df.logerror > -0.4 ]\n",
    "#train_df=train_df[ train_df.logerror < 0.418 ]"
   ]
  },
  {
   "cell_type": "markdown",
   "metadata": {},
   "source": [
    "## Prepare training examples, labels and test data"
   ]
  },
  {
   "cell_type": "code",
   "execution_count": 273,
   "metadata": {
    "collapsed": false
   },
   "outputs": [
    {
     "data": {
      "text/plain": [
       "str"
      ]
     },
     "execution_count": 273,
     "metadata": {},
     "output_type": "execute_result"
    }
   ],
   "source": [
    "type(train_df['transactiondate'][0])"
   ]
  },
  {
   "cell_type": "code",
   "execution_count": 274,
   "metadata": {
    "collapsed": false
   },
   "outputs": [
    {
     "data": {
      "text/plain": [
       "'2016-01-01'"
      ]
     },
     "execution_count": 274,
     "metadata": {},
     "output_type": "execute_result"
    }
   ],
   "source": [
    "train_df['transactiondate'][0]"
   ]
  },
  {
   "cell_type": "code",
   "execution_count": 275,
   "metadata": {
    "collapsed": true
   },
   "outputs": [],
   "source": [
    "y_train = train_df[\"logerror\"].values.astype(np.float32)\n",
    "x_train=train_df.drop(['parcelid', 'logerror','transactiondate'], axis=1)\n",
    "#x_train=train_df.drop(['parcelid', 'logerror'], axis=1)\n",
    "x_test = props.drop(['parcelid'], axis=1)"
   ]
  },
  {
   "cell_type": "code",
   "execution_count": 276,
   "metadata": {
    "collapsed": false
   },
   "outputs": [],
   "source": [
    "from sklearn.model_selection import train_test_split\n",
    "seed = 7\n",
    "test_size = 0.33\n",
    "x_train, x_valid, y_train, y_valid = train_test_split(x_train, y_train, test_size=test_size, random_state=seed)"
   ]
  },
  {
   "cell_type": "code",
   "execution_count": 277,
   "metadata": {
    "collapsed": false,
    "scrolled": true
   },
   "outputs": [
    {
     "data": {
      "text/plain": [
       "((59495, 57), (59495,), (29304, 57), (29304,), (2985217, 57))"
      ]
     },
     "execution_count": 277,
     "metadata": {},
     "output_type": "execute_result"
    }
   ],
   "source": [
    "x_train.shape, y_train.shape, x_valid.shape, y_valid.shape, x_test.shape"
   ]
  },
  {
   "cell_type": "markdown",
   "metadata": {},
   "source": [
    "## XGBoost train"
   ]
  },
  {
   "cell_type": "code",
   "execution_count": 295,
   "metadata": {
    "collapsed": false
   },
   "outputs": [],
   "source": [
    "y_mean = np.mean(y_train)\n",
    "xgb_params = {\n",
    "    #'eta': 0.037,\n",
    "    'max_depth': 5,\n",
    "    'subsample': 0.80,\n",
    "    'objective': 'reg:linear',\n",
    "   # 'eval_metric': 'mae',\n",
    "    #'lambda': 0.8,   \n",
    "    #'alpha': 0.4, \n",
    "    'base_score': y_mean,\n",
    "    'silent': 1\n",
    "}\n"
   ]
  },
  {
   "cell_type": "code",
   "execution_count": 296,
   "metadata": {
    "collapsed": false
   },
   "outputs": [
    {
     "name": "stdout",
     "output_type": "stream",
     "text": [
      "[0]\tvalidation_0-mae:0.054744\tvalidation_1-mae:0.054043\n",
      "[1]\tvalidation_0-mae:0.054637\tvalidation_1-mae:0.053969\n",
      "[2]\tvalidation_0-mae:0.054549\tvalidation_1-mae:0.053905\n",
      "[3]\tvalidation_0-mae:0.054463\tvalidation_1-mae:0.053855\n",
      "[4]\tvalidation_0-mae:0.054401\tvalidation_1-mae:0.053814\n",
      "[5]\tvalidation_0-mae:0.054332\tvalidation_1-mae:0.053789\n",
      "[6]\tvalidation_0-mae:0.054283\tvalidation_1-mae:0.053761\n",
      "[7]\tvalidation_0-mae:0.054246\tvalidation_1-mae:0.053757\n",
      "[8]\tvalidation_0-mae:0.054196\tvalidation_1-mae:0.053731\n",
      "[9]\tvalidation_0-mae:0.054152\tvalidation_1-mae:0.053709\n",
      "[10]\tvalidation_0-mae:0.054112\tvalidation_1-mae:0.053699\n",
      "[11]\tvalidation_0-mae:0.054086\tvalidation_1-mae:0.053692\n",
      "[12]\tvalidation_0-mae:0.054052\tvalidation_1-mae:0.053681\n",
      "[13]\tvalidation_0-mae:0.05402\tvalidation_1-mae:0.053668\n",
      "[14]\tvalidation_0-mae:0.05399\tvalidation_1-mae:0.053671\n",
      "[15]\tvalidation_0-mae:0.053964\tvalidation_1-mae:0.053663\n",
      "[16]\tvalidation_0-mae:0.053936\tvalidation_1-mae:0.053656\n",
      "[17]\tvalidation_0-mae:0.053918\tvalidation_1-mae:0.053649\n",
      "[18]\tvalidation_0-mae:0.053894\tvalidation_1-mae:0.05365\n",
      "[19]\tvalidation_0-mae:0.05387\tvalidation_1-mae:0.053644\n",
      "[20]\tvalidation_0-mae:0.053833\tvalidation_1-mae:0.053627\n",
      "[21]\tvalidation_0-mae:0.05381\tvalidation_1-mae:0.053621\n",
      "[22]\tvalidation_0-mae:0.053791\tvalidation_1-mae:0.053612\n",
      "[23]\tvalidation_0-mae:0.053773\tvalidation_1-mae:0.053613\n",
      "[24]\tvalidation_0-mae:0.053756\tvalidation_1-mae:0.053605\n",
      "[25]\tvalidation_0-mae:0.053736\tvalidation_1-mae:0.053601\n",
      "[26]\tvalidation_0-mae:0.053719\tvalidation_1-mae:0.0536\n",
      "[27]\tvalidation_0-mae:0.053695\tvalidation_1-mae:0.053595\n",
      "[28]\tvalidation_0-mae:0.053679\tvalidation_1-mae:0.053598\n",
      "[29]\tvalidation_0-mae:0.053663\tvalidation_1-mae:0.053596\n",
      "[30]\tvalidation_0-mae:0.053653\tvalidation_1-mae:0.053591\n",
      "[31]\tvalidation_0-mae:0.053632\tvalidation_1-mae:0.053587\n",
      "[32]\tvalidation_0-mae:0.053614\tvalidation_1-mae:0.053584\n",
      "[33]\tvalidation_0-mae:0.0536\tvalidation_1-mae:0.053585\n",
      "[34]\tvalidation_0-mae:0.053579\tvalidation_1-mae:0.053581\n",
      "[35]\tvalidation_0-mae:0.053555\tvalidation_1-mae:0.053575\n",
      "[36]\tvalidation_0-mae:0.053533\tvalidation_1-mae:0.053579\n",
      "[37]\tvalidation_0-mae:0.053508\tvalidation_1-mae:0.053572\n",
      "[38]\tvalidation_0-mae:0.053494\tvalidation_1-mae:0.053568\n",
      "[39]\tvalidation_0-mae:0.053484\tvalidation_1-mae:0.053567\n",
      "[40]\tvalidation_0-mae:0.053467\tvalidation_1-mae:0.053569\n",
      "[41]\tvalidation_0-mae:0.053454\tvalidation_1-mae:0.053573\n",
      "[42]\tvalidation_0-mae:0.053443\tvalidation_1-mae:0.053567\n",
      "[43]\tvalidation_0-mae:0.053429\tvalidation_1-mae:0.053571\n",
      "[44]\tvalidation_0-mae:0.053413\tvalidation_1-mae:0.053575\n",
      "[45]\tvalidation_0-mae:0.053402\tvalidation_1-mae:0.053578\n",
      "[46]\tvalidation_0-mae:0.053386\tvalidation_1-mae:0.053582\n",
      "[47]\tvalidation_0-mae:0.053371\tvalidation_1-mae:0.053587\n",
      "[48]\tvalidation_0-mae:0.053351\tvalidation_1-mae:0.053577\n",
      "[49]\tvalidation_0-mae:0.053332\tvalidation_1-mae:0.053574\n",
      "[50]\tvalidation_0-mae:0.053327\tvalidation_1-mae:0.053578\n",
      "[51]\tvalidation_0-mae:0.053311\tvalidation_1-mae:0.053568\n",
      "[52]\tvalidation_0-mae:0.053292\tvalidation_1-mae:0.053568\n",
      "[53]\tvalidation_0-mae:0.053285\tvalidation_1-mae:0.053565\n",
      "[54]\tvalidation_0-mae:0.053275\tvalidation_1-mae:0.05356\n",
      "[55]\tvalidation_0-mae:0.053267\tvalidation_1-mae:0.053564\n",
      "[56]\tvalidation_0-mae:0.053251\tvalidation_1-mae:0.053554\n",
      "[57]\tvalidation_0-mae:0.053237\tvalidation_1-mae:0.053562\n",
      "[58]\tvalidation_0-mae:0.053225\tvalidation_1-mae:0.053568\n",
      "[59]\tvalidation_0-mae:0.053213\tvalidation_1-mae:0.053564\n",
      "[60]\tvalidation_0-mae:0.053202\tvalidation_1-mae:0.053568\n",
      "[61]\tvalidation_0-mae:0.053187\tvalidation_1-mae:0.053568\n",
      "[62]\tvalidation_0-mae:0.053176\tvalidation_1-mae:0.05357\n",
      "[63]\tvalidation_0-mae:0.053167\tvalidation_1-mae:0.05357\n",
      "[64]\tvalidation_0-mae:0.053152\tvalidation_1-mae:0.053565\n",
      "[65]\tvalidation_0-mae:0.053134\tvalidation_1-mae:0.053563\n",
      "[66]\tvalidation_0-mae:0.05313\tvalidation_1-mae:0.053562\n",
      "[67]\tvalidation_0-mae:0.053116\tvalidation_1-mae:0.053561\n",
      "[68]\tvalidation_0-mae:0.053102\tvalidation_1-mae:0.053562\n",
      "[69]\tvalidation_0-mae:0.053086\tvalidation_1-mae:0.053559\n",
      "[70]\tvalidation_0-mae:0.053074\tvalidation_1-mae:0.05356\n",
      "[71]\tvalidation_0-mae:0.053061\tvalidation_1-mae:0.053567\n",
      "[72]\tvalidation_0-mae:0.053036\tvalidation_1-mae:0.053564\n",
      "[73]\tvalidation_0-mae:0.053031\tvalidation_1-mae:0.053565\n",
      "[74]\tvalidation_0-mae:0.053019\tvalidation_1-mae:0.053571\n",
      "[75]\tvalidation_0-mae:0.053\tvalidation_1-mae:0.053565\n",
      "[76]\tvalidation_0-mae:0.052992\tvalidation_1-mae:0.053568\n",
      "[77]\tvalidation_0-mae:0.052982\tvalidation_1-mae:0.05357\n",
      "[78]\tvalidation_0-mae:0.052975\tvalidation_1-mae:0.053573\n",
      "[79]\tvalidation_0-mae:0.052956\tvalidation_1-mae:0.053571\n",
      "[80]\tvalidation_0-mae:0.052944\tvalidation_1-mae:0.053568\n",
      "[81]\tvalidation_0-mae:0.052929\tvalidation_1-mae:0.053572\n",
      "[82]\tvalidation_0-mae:0.052924\tvalidation_1-mae:0.053573\n",
      "[83]\tvalidation_0-mae:0.052899\tvalidation_1-mae:0.053577\n",
      "[84]\tvalidation_0-mae:0.052888\tvalidation_1-mae:0.053584\n",
      "[85]\tvalidation_0-mae:0.052861\tvalidation_1-mae:0.053581\n",
      "[86]\tvalidation_0-mae:0.052844\tvalidation_1-mae:0.053586\n",
      "[87]\tvalidation_0-mae:0.052826\tvalidation_1-mae:0.05359\n",
      "[88]\tvalidation_0-mae:0.052814\tvalidation_1-mae:0.053586\n",
      "[89]\tvalidation_0-mae:0.052799\tvalidation_1-mae:0.053594\n",
      "[90]\tvalidation_0-mae:0.052783\tvalidation_1-mae:0.053593\n",
      "[91]\tvalidation_0-mae:0.052777\tvalidation_1-mae:0.053593\n",
      "[92]\tvalidation_0-mae:0.052765\tvalidation_1-mae:0.053593\n",
      "[93]\tvalidation_0-mae:0.052756\tvalidation_1-mae:0.053595\n",
      "[94]\tvalidation_0-mae:0.052743\tvalidation_1-mae:0.053595\n",
      "[95]\tvalidation_0-mae:0.052733\tvalidation_1-mae:0.053598\n",
      "[96]\tvalidation_0-mae:0.052717\tvalidation_1-mae:0.053601\n",
      "[97]\tvalidation_0-mae:0.052708\tvalidation_1-mae:0.053603\n",
      "[98]\tvalidation_0-mae:0.052695\tvalidation_1-mae:0.053606\n",
      "[99]\tvalidation_0-mae:0.052689\tvalidation_1-mae:0.053606\n"
     ]
    },
    {
     "data": {
      "text/plain": [
       "XGBModel(base_score=0.0094006034, colsample_bylevel=1, colsample_bytree=1,\n",
       "     gamma=0, learning_rate=0.1, max_delta_step=0, max_depth=5,\n",
       "     min_child_weight=1, missing=None, n_estimators=100, nthread=-1,\n",
       "     objective='reg:linear', reg_alpha=0, reg_lambda=1, scale_pos_weight=1,\n",
       "     seed=0, silent=1, subsample=0.8)"
      ]
     },
     "execution_count": 296,
     "metadata": {},
     "output_type": "execute_result"
    }
   ],
   "source": [
    "clf = xgb.XGBModel(**xgb_params)\n",
    "clf.fit(x_train, y_train,\n",
    "        eval_set=[(x_train, y_train), (x_valid, y_valid)], \n",
    "        eval_metric='mae',\n",
    "        verbose=True)"
   ]
  },
  {
   "cell_type": "markdown",
   "metadata": {},
   "source": [
    "## Test"
   ]
  },
  {
   "cell_type": "code",
   "execution_count": 298,
   "metadata": {
    "collapsed": false
   },
   "outputs": [],
   "source": [
    "#dtest = xgb.DMatrix(x_test)\n",
    "xgb_pred = clf.predict(x_test)"
   ]
  },
  {
   "cell_type": "code",
   "execution_count": 299,
   "metadata": {
    "collapsed": false
   },
   "outputs": [
    {
     "data": {
      "text/plain": [
       "array([-0.02469542,  0.01942533,  0.04795396, ...,  0.17271759,\n",
       "        0.17271759,  0.17271759], dtype=float32)"
      ]
     },
     "execution_count": 299,
     "metadata": {},
     "output_type": "execute_result"
    }
   ],
   "source": [
    "pd.set_option('display.float_format', lambda x: '%.4f' % x)\n",
    "xgb_pred"
   ]
  },
  {
   "cell_type": "markdown",
   "metadata": {},
   "source": [
    "## Write to submission file"
   ]
  },
  {
   "cell_type": "code",
   "execution_count": 300,
   "metadata": {
    "collapsed": false
   },
   "outputs": [],
   "source": [
    "y_pred=[]\n",
    "\n",
    "for i,predict in enumerate(xgb_pred):\n",
    "    y_pred.append(str(round(predict,4)))\n",
    "y_pred=np.array(y_pred)"
   ]
  },
  {
   "cell_type": "code",
   "execution_count": 301,
   "metadata": {
    "collapsed": false
   },
   "outputs": [
    {
     "data": {
      "text/plain": [
       "numpy.ndarray"
      ]
     },
     "execution_count": 301,
     "metadata": {},
     "output_type": "execute_result"
    }
   ],
   "source": [
    "type(y_pred)"
   ]
  },
  {
   "cell_type": "code",
   "execution_count": 302,
   "metadata": {
    "collapsed": false
   },
   "outputs": [
    {
     "data": {
      "text/plain": [
       "array(['-0.0247', '0.0194', '0.048', ..., '0.1727', '0.1727', '0.1727'], \n",
       "      dtype='<U7')"
      ]
     },
     "execution_count": 302,
     "metadata": {},
     "output_type": "execute_result"
    }
   ],
   "source": [
    "y_pred"
   ]
  },
  {
   "cell_type": "code",
   "execution_count": 303,
   "metadata": {
    "collapsed": false
   },
   "outputs": [
    {
     "name": "stdout",
     "output_type": "stream",
     "text": [
      "\n",
      "Writing results to disk ...\n"
     ]
    }
   ],
   "source": [
    "output = pd.DataFrame({'ParcelId': props['parcelid'].astype(np.int32),\n",
    "        '201610': y_pred, '201611': y_pred, '201612': y_pred,\n",
    "        '201710': y_pred, '201711': y_pred, '201712': y_pred})\n",
    "# set col 'ParceID' to first col\n",
    "cols = output.columns.tolist()\n",
    "cols = cols[-1:] + cols[:-1]\n",
    "output = output[cols]\n",
    "from datetime import datetime\n",
    "\n",
    "print( \"\\nWriting results to disk ...\" )\n",
    "output.to_csv('sub{}.csv'.format(datetime.now().strftime('%Y%m%d_%H%M%S')), index=False)"
   ]
  }
 ],
 "metadata": {
  "kernelspec": {
   "display_name": "Python 3",
   "language": "python",
   "name": "python3"
  },
  "language_info": {
   "codemirror_mode": {
    "name": "ipython",
    "version": 3
   },
   "file_extension": ".py",
   "mimetype": "text/x-python",
   "name": "python",
   "nbconvert_exporter": "python",
   "pygments_lexer": "ipython3",
   "version": "3.6.0"
  },
  "toc": {
   "colors": {
    "hover_highlight": "#DAA520",
    "running_highlight": "#FF0000",
    "selected_highlight": "#FFD700"
   },
   "moveMenuLeft": true,
   "nav_menu": {
    "height": "241px",
    "width": "253px"
   },
   "navigate_menu": true,
   "number_sections": true,
   "sideBar": true,
   "threshold": 4,
   "toc_cell": false,
   "toc_section_display": "block",
   "toc_window_display": false
  }
 },
 "nbformat": 4,
 "nbformat_minor": 2
}
